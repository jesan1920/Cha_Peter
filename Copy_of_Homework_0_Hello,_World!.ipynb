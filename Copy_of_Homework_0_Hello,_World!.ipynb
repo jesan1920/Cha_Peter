{
  "nbformat": 4,
  "nbformat_minor": 0,
  "metadata": {
    "colab": {
      "name": "Copy of Homework 0: Hello, World!.ipynb",
      "provenance": [],
      "collapsed_sections": [],
      "include_colab_link": true
    },
    "kernelspec": {
      "name": "python3",
      "display_name": "Python 3"
    }
  },
  "cells": [
    {
      "cell_type": "markdown",
      "metadata": {
        "id": "view-in-github",
        "colab_type": "text"
      },
      "source": [
        "<a href=\"https://colab.research.google.com/github/pcha99/Cha_Peter/blob/master/Copy_of_Homework_0_Hello%2C_World!.ipynb\" target=\"_parent\"><img src=\"https://colab.research.google.com/assets/colab-badge.svg\" alt=\"Open In Colab\"/></a>"
      ]
    },
    {
      "cell_type": "markdown",
      "metadata": {
        "id": "NePikfFJx_6N",
        "colab_type": "text"
      },
      "source": [
        "# Homework 0: Hello World! \n",
        "\n",
        "Create a cell below that prints `Hello, World!` to standard output then save this notebook back to your Github Classroom project. "
      ]
    },
    {
      "cell_type": "code",
      "metadata": {
        "id": "JBF0MMEIlm6V",
        "colab_type": "code",
        "outputId": "4ed901cd-37fd-4b34-c8f4-84f84371b7c7",
        "colab": {
          "base_uri": "https://localhost:8080/",
          "height": 34
        }
      },
      "source": [
        "print('Hello, World!')"
      ],
      "execution_count": 0,
      "outputs": [
        {
          "output_type": "stream",
          "text": [
            "Hello, World!\n"
          ],
          "name": "stdout"
        }
      ]
    }
  ]
}